{
 "cells": [
  {
   "cell_type": "code",
   "execution_count": 10,
   "metadata": {
    "tags": []
   },
   "outputs": [],
   "source": [
    "import pandas as pd\n",
    "import numpy as np\n",
    "import pysam as ps\n",
    "import scipy as sp\n",
    "from scipy import stats\n",
    "import seaborn as sns\n",
    "import matplotlib.pyplot as plt\n",
    "%matplotlib inline"
   ]
  },
  {
   "cell_type": "code",
   "execution_count": 2,
   "metadata": {},
   "outputs": [],
   "source": [
    "def get_codon_adaptation_index(fasta): \n",
    "    '''returns a dataframe that calculates codon adaptation index/gene in fasta file'''\n",
    "    index=[]\n",
    "    gene_ids=[]\n",
    "    from Bio import SeqIO\n",
    "    from Bio.SeqUtils import CodonUsage\n",
    "    from Bio.SeqUtils.CodonUsage import CodonAdaptationIndex\n",
    "    for record in SeqIO.parse(fasta, \"fasta\"):\n",
    "        sequence=str(record.seq)\n",
    "        \n",
    "        try:\n",
    "            Seq_Cai = CodonUsage.CodonAdaptationIndex()\n",
    "            cai=Seq_Cai.cai_for_gene(sequence)\n",
    "            index.append(cai)\n",
    "            gene_ids.append(record.id)\n",
    "        except:\n",
    "            index.append('problem')\n",
    "            gene_ids.append(record.id)\n",
    "    df = pd.DataFrame({'gene_id':gene_ids, 'cai':index}, columns=['gene_id','cai'])\n",
    "    return df"
   ]
  },
  {
   "cell_type": "code",
   "execution_count": 3,
   "metadata": {},
   "outputs": [
    {
     "name": "stderr",
     "output_type": "stream",
     "text": [
      "/home/m/anaconda2/lib/python2.7/site-packages/Bio/Seq.py:341: BiopythonDeprecationWarning: This method is obsolete; please use str(my_seq) instead of my_seq.tostring().\n",
      "  BiopythonDeprecationWarning)\n"
     ]
    }
   ],
   "source": [
    "from Bio import SeqIO\n",
    "infile = SeqIO.read('/home/m/genome_files/REF-seq_CLJU.gbk','gb')\n",
    "genes =[]\n",
    "name = []\n",
    "product = []\n",
    "func = []\n",
    "strand = []\n",
    "start = []\n",
    "stop = []\n",
    "aaseq = []\n",
    "cds_seq = []\n",
    "\n",
    "    #genome_seq_df = pd.DataFrame({'sequence':list(str(infile.seq))},index=range(1,len(str(infile.seq))+1))\n",
    "for feature in infile.features:\n",
    "    if feature.type == 'CDS' and 'product' in feature.qualifiers:  #Only cares for coding sequences which are not pseudogenes\n",
    "        genes.append(feature.qualifiers['locus_tag'][0])\n",
    "        try: name.append(feature.qualifiers['gene'][0])\n",
    "        except: name.append('')\n",
    "        product.append(str(feature.qualifiers['product'][0]))\n",
    "        cds_seq.append(feature.location.extract(infile.seq).tostring())\n",
    "        if 'function' in feature.qualifiers:                       #not all genes have known functions\n",
    "            func.append(feature.qualifiers['function'][0])\n",
    "        else:\n",
    "            func.append(\"N/A\")\n",
    "        try:\n",
    "            aaseq.append(feature.qualifiers['translation'][0])\n",
    "        except:\n",
    "            aaseq.append(\"N/A\")\n",
    "        if feature.strand == 1:\n",
    "            strand.append(\"plus\")\n",
    "            start.append(feature.location.start.real+1)\n",
    "            stop.append(feature.location.end.real)\n",
    "        elif feature.strand == -1:\n",
    "            strand.append(\"minus\")\n",
    "            start.append(feature.location.start.real+1)\n",
    "            stop.append(feature.location.end.real)\n",
    "gene_df = pd.DataFrame({\"gene_id\": genes,  \"product\": product},\n",
    "                          columns = [\"gene_id\", \"product\"])\n",
    "\n"
   ]
  },
  {
   "cell_type": "code",
   "execution_count": 4,
   "metadata": {},
   "outputs": [],
   "source": [
    "gene_df['product']=gene_df['product'].astype('object')"
   ]
  },
  {
   "cell_type": "code",
   "execution_count": 5,
   "metadata": {},
   "outputs": [
    {
     "data": {
      "text/plain": [
       "pandas.core.series.Series"
      ]
     },
     "execution_count": 5,
     "metadata": {},
     "output_type": "execute_result"
    }
   ],
   "source": [
    "type(gene_df['product'])"
   ]
  },
  {
   "cell_type": "code",
   "execution_count": 8,
   "metadata": {},
   "outputs": [],
   "source": [
    "clju_condon_adaptation_index = get_codon_adaptation_index('/home/m/genome_files/REF-seq_CLJU.fna')\n",
    "clju_condon_adaptation_index = pd.merge(clju_condon_adaptation_index, gene_df) #gene_df below!\n",
    "clju_condon_adaptation_index = clju_condon_adaptation_index[clju_condon_adaptation_index.cai != 'problem']"
   ]
  },
  {
   "cell_type": "code",
   "execution_count": 9,
   "metadata": {},
   "outputs": [
    {
     "data": {
      "text/plain": [
       "4111"
      ]
     },
     "execution_count": 9,
     "metadata": {},
     "output_type": "execute_result"
    }
   ],
   "source": [
    "pd.to"
   ]
  },
  {
   "cell_type": "code",
   "execution_count": 7,
   "metadata": {
    "scrolled": true
   },
   "outputs": [
    {
     "data": {
      "text/html": [
       "<div>\n",
       "<table border=\"1\" class=\"dataframe\">\n",
       "  <thead>\n",
       "    <tr style=\"text-align: right;\">\n",
       "      <th></th>\n",
       "      <th>gene_id</th>\n",
       "      <th>cai</th>\n",
       "      <th>product</th>\n",
       "    </tr>\n",
       "  </thead>\n",
       "  <tbody>\n",
       "    <tr>\n",
       "      <th>3835</th>\n",
       "      <td>CLJU_RS19560</td>\n",
       "      <td>0.312663</td>\n",
       "      <td>carboxysome shell protein</td>\n",
       "    </tr>\n",
       "    <tr>\n",
       "      <th>1137</th>\n",
       "      <td>CLJU_RS05880</td>\n",
       "      <td>0.312663</td>\n",
       "      <td>carboxysome shell protein</td>\n",
       "    </tr>\n",
       "    <tr>\n",
       "      <th>2612</th>\n",
       "      <td>CLJU_RS13290</td>\n",
       "      <td>0.311079</td>\n",
       "      <td>4Fe-4S ferredoxin</td>\n",
       "    </tr>\n",
       "    <tr>\n",
       "      <th>3849</th>\n",
       "      <td>CLJU_RS19630</td>\n",
       "      <td>0.309761</td>\n",
       "      <td>microcompartment shellprotein</td>\n",
       "    </tr>\n",
       "    <tr>\n",
       "      <th>194</th>\n",
       "      <td>CLJU_RS01090</td>\n",
       "      <td>0.303182</td>\n",
       "      <td>50S ribosomal protein L31</td>\n",
       "    </tr>\n",
       "    <tr>\n",
       "      <th>2167</th>\n",
       "      <td>CLJU_RS11075</td>\n",
       "      <td>0.301563</td>\n",
       "      <td>iron-sulfur cluster-binding protein</td>\n",
       "    </tr>\n",
       "    <tr>\n",
       "      <th>683</th>\n",
       "      <td>CLJU_RS03625</td>\n",
       "      <td>0.300382</td>\n",
       "      <td>50S ribosomal protein L21</td>\n",
       "    </tr>\n",
       "    <tr>\n",
       "      <th>3580</th>\n",
       "      <td>CLJU_RS18275</td>\n",
       "      <td>0.299857</td>\n",
       "      <td>pyridoxamine 5'-phosphate oxidase-like, FMN-bi...</td>\n",
       "    </tr>\n",
       "    <tr>\n",
       "      <th>1138</th>\n",
       "      <td>CLJU_RS05885</td>\n",
       "      <td>0.293277</td>\n",
       "      <td>carboxysome shell protein</td>\n",
       "    </tr>\n",
       "    <tr>\n",
       "      <th>3834</th>\n",
       "      <td>CLJU_RS19555</td>\n",
       "      <td>0.293277</td>\n",
       "      <td>carboxysome shell protein</td>\n",
       "    </tr>\n",
       "    <tr>\n",
       "      <th>1968</th>\n",
       "      <td>CLJU_RS10060</td>\n",
       "      <td>0.292072</td>\n",
       "      <td>pyruvate carboxylase</td>\n",
       "    </tr>\n",
       "    <tr>\n",
       "      <th>2406</th>\n",
       "      <td>CLJU_RS12260</td>\n",
       "      <td>0.287994</td>\n",
       "      <td>heavy-metal-binding protein</td>\n",
       "    </tr>\n",
       "    <tr>\n",
       "      <th>3847</th>\n",
       "      <td>CLJU_RS19620</td>\n",
       "      <td>0.285918</td>\n",
       "      <td>choline trimethylamine-lyase</td>\n",
       "    </tr>\n",
       "    <tr>\n",
       "      <th>3619</th>\n",
       "      <td>CLJU_RS18470</td>\n",
       "      <td>0.285772</td>\n",
       "      <td>zinc transporter</td>\n",
       "    </tr>\n",
       "    <tr>\n",
       "      <th>2497</th>\n",
       "      <td>CLJU_RS12715</td>\n",
       "      <td>0.285641</td>\n",
       "      <td>zinc-containing alcohol dehydrogenase</td>\n",
       "    </tr>\n",
       "    <tr>\n",
       "      <th>3797</th>\n",
       "      <td>CLJU_RS19370</td>\n",
       "      <td>0.283689</td>\n",
       "      <td>rubrerythrin</td>\n",
       "    </tr>\n",
       "    <tr>\n",
       "      <th>153</th>\n",
       "      <td>CLJU_RS00885</td>\n",
       "      <td>0.280512</td>\n",
       "      <td>ferredoxin</td>\n",
       "    </tr>\n",
       "    <tr>\n",
       "      <th>2516</th>\n",
       "      <td>CLJU_RS21365</td>\n",
       "      <td>0.279364</td>\n",
       "      <td>Protein of unknown function DUF2149</td>\n",
       "    </tr>\n",
       "    <tr>\n",
       "      <th>3839</th>\n",
       "      <td>CLJU_RS19580</td>\n",
       "      <td>0.276822</td>\n",
       "      <td>ethanolamine utilization protein EutQ</td>\n",
       "    </tr>\n",
       "    <tr>\n",
       "      <th>3223</th>\n",
       "      <td>CLJU_RS16385</td>\n",
       "      <td>0.275993</td>\n",
       "      <td>cold-shock protein</td>\n",
       "    </tr>\n",
       "  </tbody>\n",
       "</table>\n",
       "</div>"
      ],
      "text/plain": [
       "           gene_id       cai  \\\n",
       "3835  CLJU_RS19560  0.312663   \n",
       "1137  CLJU_RS05880  0.312663   \n",
       "2612  CLJU_RS13290  0.311079   \n",
       "3849  CLJU_RS19630  0.309761   \n",
       "194   CLJU_RS01090  0.303182   \n",
       "2167  CLJU_RS11075  0.301563   \n",
       "683   CLJU_RS03625  0.300382   \n",
       "3580  CLJU_RS18275  0.299857   \n",
       "1138  CLJU_RS05885  0.293277   \n",
       "3834  CLJU_RS19555  0.293277   \n",
       "1968  CLJU_RS10060  0.292072   \n",
       "2406  CLJU_RS12260  0.287994   \n",
       "3847  CLJU_RS19620  0.285918   \n",
       "3619  CLJU_RS18470  0.285772   \n",
       "2497  CLJU_RS12715  0.285641   \n",
       "3797  CLJU_RS19370  0.283689   \n",
       "153   CLJU_RS00885  0.280512   \n",
       "2516  CLJU_RS21365  0.279364   \n",
       "3839  CLJU_RS19580  0.276822   \n",
       "3223  CLJU_RS16385  0.275993   \n",
       "\n",
       "                                                product  \n",
       "3835                          carboxysome shell protein  \n",
       "1137                          carboxysome shell protein  \n",
       "2612                                  4Fe-4S ferredoxin  \n",
       "3849                      microcompartment shellprotein  \n",
       "194                           50S ribosomal protein L31  \n",
       "2167                iron-sulfur cluster-binding protein  \n",
       "683                           50S ribosomal protein L21  \n",
       "3580  pyridoxamine 5'-phosphate oxidase-like, FMN-bi...  \n",
       "1138                          carboxysome shell protein  \n",
       "3834                          carboxysome shell protein  \n",
       "1968                               pyruvate carboxylase  \n",
       "2406                        heavy-metal-binding protein  \n",
       "3847                       choline trimethylamine-lyase  \n",
       "3619                                   zinc transporter  \n",
       "2497              zinc-containing alcohol dehydrogenase  \n",
       "3797                                       rubrerythrin  \n",
       "153                                          ferredoxin  \n",
       "2516                Protein of unknown function DUF2149  \n",
       "3839              ethanolamine utilization protein EutQ  \n",
       "3223                                 cold-shock protein  "
      ]
     },
     "execution_count": 7,
     "metadata": {},
     "output_type": "execute_result"
    }
   ],
   "source": [
    "clju_condon_adaptation_index=clju_condon_adaptation_index.sort_values(by='cai', ascending=False)\n",
    "clju_condon_adaptation_index[clju_condon_adaptation_index['product'].str.contains('hypothetical protein')==False].head(20)"
   ]
  },
  {
   "cell_type": "code",
   "execution_count": 8,
   "metadata": {},
   "outputs": [],
   "source": [
    "co_hi_te_cai=get_codon_adaptation_index('/home/m/Dropbox/Clostridium_paper/co_hi_te_gene.fasta')\n",
    "co_lo_te_cai=get_codon_adaptation_index('/home/m/Dropbox/Clostridium_paper/co_lo_te_gene.fasta')"
   ]
  },
  {
   "cell_type": "code",
   "execution_count": 9,
   "metadata": {},
   "outputs": [],
   "source": [
    "co_lo_te_cai=co_lo_te_cai[co_lo_te_cai.cai!='problem']"
   ]
  },
  {
   "cell_type": "code",
   "execution_count": 34,
   "metadata": {},
   "outputs": [
    {
     "data": {
      "text/html": [
       "<div>\n",
       "<table border=\"1\" class=\"dataframe\">\n",
       "  <thead>\n",
       "    <tr style=\"text-align: right;\">\n",
       "      <th></th>\n",
       "      <th>gene_id</th>\n",
       "      <th>cai</th>\n",
       "    </tr>\n",
       "  </thead>\n",
       "  <tbody>\n",
       "    <tr>\n",
       "      <th>0</th>\n",
       "      <td>CLJU_RS00005</td>\n",
       "      <td>0.156674</td>\n",
       "    </tr>\n",
       "    <tr>\n",
       "      <th>1</th>\n",
       "      <td>CLJU_RS00020</td>\n",
       "      <td>0.134429</td>\n",
       "    </tr>\n",
       "    <tr>\n",
       "      <th>2</th>\n",
       "      <td>CLJU_RS00025</td>\n",
       "      <td>0.158206</td>\n",
       "    </tr>\n",
       "    <tr>\n",
       "      <th>3</th>\n",
       "      <td>CLJU_RS00080</td>\n",
       "      <td>0.143783</td>\n",
       "    </tr>\n",
       "    <tr>\n",
       "      <th>4</th>\n",
       "      <td>CLJU_RS00175</td>\n",
       "      <td>0.147639</td>\n",
       "    </tr>\n",
       "  </tbody>\n",
       "</table>\n",
       "</div>"
      ],
      "text/plain": [
       "        gene_id       cai\n",
       "0  CLJU_RS00005  0.156674\n",
       "1  CLJU_RS00020  0.134429\n",
       "2  CLJU_RS00025  0.158206\n",
       "3  CLJU_RS00080  0.143783\n",
       "4  CLJU_RS00175  0.147639"
      ]
     },
     "execution_count": 34,
     "metadata": {},
     "output_type": "execute_result"
    }
   ],
   "source": [
    "co_lo_te_cai.head()"
   ]
  },
  {
   "cell_type": "code",
   "execution_count": 47,
   "metadata": {
    "scrolled": true,
    "tags": []
   },
   "outputs": [
    {
     "data": {
      "image/png": "[encoded data removed]",
      "text/plain": [
       "<matplotlib.figure.Figure at 0x7f1308c40ad0>"
      ]
     },
     "metadata": {},
     "output_type": "display_data"
    }
   ],
   "source": [
    "fig, ax= plt.subplots(figsize=[6,3])\n",
    "sns.set_style('ticks')\n",
    "sns.despine( offset=10)\n",
    "sns.kdeplot(co_hi_te_cai.cai, color='blue', ax=ax, legend=False, shade=True )\n",
    "sns.kdeplot(co_lo_te_cai.cai, color='red', ax=ax, legend=False, shade=True)\n",
    "\n",
    "my_label=['high TE', 'low TE']\n",
    "plt.legend(my_label, loc='best')\n",
    "ax.set_xlabel('Codon Adaptation Index', fontsize=14)\n",
    "ax.set_ylabel('Density', fontsize=14)\n",
    "plt.legend(['hi TE', 'low TE'], fontsize=15)\n",
    "plt.text(0.26, 8, 'p=2.0e-10\\nN=1245' , fontsize=15)\n",
    "plt.savefig('/home/m/Dropbox/Clostridium_paper/figs/CAI_of_high_and_low_co_TE.pdf',\n",
    "           bbox_inches='tight')"
   ]
  },
  {
   "cell_type": "code",
   "execution_count": 6,
   "metadata": {
    "scrolled": true,
    "tags": []
   },
   "outputs": [
    {
     "data": {
      "text/plain": [
       "(MannwhitneyuResult(statistic=153675.0, pvalue=1.3304610690400226e-10), 1245)"
      ]
     },
     "execution_count": 6,
     "metadata": {},
     "output_type": "execute_result"
    }
   ],
   "source": [
    "stats.mannwhitneyu(co_hi_te_cai.cai, co_lo_te_cai.cai), len(co_hi_te_cai)+len(co_lo_te_cai)"
   ]
  },
  {
   "cell_type": "code",
   "execution_count": 7,
   "metadata": {
    "tags": []
   },
   "outputs": [],
   "source": [
    "co_hi_te_cai['kind']='high'\n",
    "co_lo_te_cai['kind']='low'\n",
    "both=pd.concat([co_hi_te_cai, co_lo_te_cai], axis=0)"
   ]
  },
  {
   "cell_type": "code",
   "execution_count": 74,
   "metadata": {},
   "outputs": [
    {
     "data": {
      "image/png": "[encoded data removed]",
      "text/plain": [
       "<matplotlib.figure.Figure at 0x7f4a0c33e990>"
      ]
     },
     "metadata": {},
     "output_type": "display_data"
    }
   ],
   "source": [
    "fig, ax = plt.subplots()\n",
    "sns.set_style('ticks')\n",
    "sns.despine(offset=10)\n",
    "sns.boxplot(x='kind', y='cai', data=both, showfliers=False, ax=ax, width=0.3)\n",
    "ax.set_xlabel('Translational Efficiency',fontsize=18)\n",
    "ax.set_ylabel('Codon Adaptation Index',fontsize=18)\n",
    "plt.show()"
   ]
  },
  {
   "cell_type": "code",
   "execution_count": 11,
   "metadata": {},
   "outputs": [],
   "source": [
    "clju_cai = get_codon_adaptation_index('/home/m/genome_files/REF-seq_CLJU.fna') "
   ]
  },
  {
   "cell_type": "code",
   "execution_count": 12,
   "metadata": {},
   "outputs": [],
   "source": [
    "clju_cai=clju_cai[clju_cai.cai!='problem']"
   ]
  },
  {
   "cell_type": "code",
   "execution_count": 13,
   "metadata": {},
   "outputs": [],
   "source": [
    "clju_cai=clju_cai.sort_values(by='cai', ascending=False)\n"
   ]
  },
  {
   "cell_type": "code",
   "execution_count": 14,
   "metadata": {},
   "outputs": [
    {
     "data": {
      "text/plain": [
       "Index([u'gene_id', u'product'], dtype='object')"
      ]
     },
     "execution_count": 14,
     "metadata": {},
     "output_type": "execute_result"
    }
   ],
   "source": [
    "gene_df.columns"
   ]
  },
  {
   "cell_type": "code",
   "execution_count": null,
   "metadata": {
    "collapsed": true,
    "jupyter": {
     "outputs_hidden": true
    }
   },
   "outputs": [],
   "source": []
  },
  {
   "cell_type": "code",
   "execution_count": 15,
   "metadata": {},
   "outputs": [],
   "source": [
    "clju_cai=pd.merge(clju_cai, gene_df)"
   ]
  },
  {
   "cell_type": "code",
   "execution_count": 16,
   "metadata": {
    "collapsed": true,
    "jupyter": {
     "outputs_hidden": true
    }
   },
   "outputs": [],
   "source": [
    "clju_cai.to_excel('/home/m/Dropbox/Clostridium_paper/clju_cai.xls')"
   ]
  },
  {
   "cell_type": "code",
   "execution_count": 38,
   "metadata": {},
   "outputs": [],
   "source": [
    "clju_cai=clju_cai.sort_values(by='cai', ascending=False)"
   ]
  },
  {
   "cell_type": "code",
   "execution_count": 39,
   "metadata": {
    "scrolled": true
   },
   "outputs": [
    {
     "data": {
      "text/plain": [
       "<matplotlib.axes._subplots.AxesSubplot at 0x7f4a0e4ac190>"
      ]
     },
     "execution_count": 39,
     "metadata": {},
     "output_type": "execute_result"
    },
    {
     "data": {
      "image/png": "[encoded data removed]",
      "text/plain": [
       "<matplotlib.figure.Figure at 0x7f4a0f301e50>"
      ]
     },
     "metadata": {},
     "output_type": "display_data"
    }
   ],
   "source": [
    "fig, ax=plt.subplots()\n",
    "clju_cai.plot(kind='hist', ax=ax, alpha=0.5, color='red', bins=60)\n"
   ]
  },
  {
   "cell_type": "markdown",
   "metadata": {},
   "source": [
    "# Testing whether the high CAI genes are linearly corrlated with high TE genes"
   ]
  },
  {
   "cell_type": "code",
   "execution_count": 17,
   "metadata": {
    "tags": []
   },
   "outputs": [],
   "source": [
    "co_hi_te_genes= pd.read_csv('/home/m/Dropbox/Clostridium_paper/data_analysis/genes_high_translation_efficiency_CO_80th_percent.txt', sep='\\t')\n",
    "co_lo_te_genes= pd.read_csv('/home/m/Dropbox/Clostridium_paper/data_analysis/genes_low_translation_efficiency_CO_20th_percent.txt',sep='\\t')"
   ]
  },
  {
   "cell_type": "code",
   "execution_count": 18,
   "metadata": {},
   "outputs": [],
   "source": [
    "#merging with clju cai\n",
    "co_hi_te_genes=pd.merge(co_hi_te_genes, clju_cai)\n",
    "co_lo_te_genes=pd.merge(co_lo_te_genes, clju_cai)"
   ]
  },
  {
   "cell_type": "code",
   "execution_count": 19,
   "metadata": {},
   "outputs": [],
   "source": [
    "co_lo_te_genes=co_lo_te_genes[co_lo_te_genes.low_co_te>0.001]"
   ]
  },
  {
   "cell_type": "code",
   "execution_count": 20,
   "metadata": {},
   "outputs": [
    {
     "data": {
      "text/plain": [
       "0.15667384719503724"
      ]
     },
     "execution_count": 20,
     "metadata": {},
     "output_type": "execute_result"
    }
   ],
   "source": [
    "co_lo_te_genes.cai[0]"
   ]
  },
  {
   "cell_type": "code",
   "execution_count": 21,
   "metadata": {
    "scrolled": true
   },
   "outputs": [
    {
     "data": {
      "text/html": [
       "<div>\n",
       "<table border=\"1\" class=\"dataframe\">\n",
       "  <thead>\n",
       "    <tr style=\"text-align: right;\">\n",
       "      <th></th>\n",
       "      <th>Unnamed: 0</th>\n",
       "      <th>gene_id</th>\n",
       "      <th>hiav_ribo_rpkm_co</th>\n",
       "      <th>hiav_rna_rpkm_co</th>\n",
       "      <th>hi_co_te</th>\n",
       "      <th>cai</th>\n",
       "      <th>product</th>\n",
       "    </tr>\n",
       "  </thead>\n",
       "  <tbody>\n",
       "    <tr>\n",
       "      <th>0</th>\n",
       "      <td>12</td>\n",
       "      <td>CLJU_RS00085</td>\n",
       "      <td>101.272309</td>\n",
       "      <td>90.060027</td>\n",
       "      <td>1.124498</td>\n",
       "      <td>0.152722</td>\n",
       "      <td>seryl-tRNA synthetase</td>\n",
       "    </tr>\n",
       "    <tr>\n",
       "      <th>1</th>\n",
       "      <td>23</td>\n",
       "      <td>CLJU_RS00170</td>\n",
       "      <td>54.803626</td>\n",
       "      <td>49.298075</td>\n",
       "      <td>1.111679</td>\n",
       "      <td>0.263932</td>\n",
       "      <td>hypothetical protein</td>\n",
       "    </tr>\n",
       "    <tr>\n",
       "      <th>2</th>\n",
       "      <td>30</td>\n",
       "      <td>CLJU_RS00240</td>\n",
       "      <td>122.340275</td>\n",
       "      <td>96.585991</td>\n",
       "      <td>1.266646</td>\n",
       "      <td>0.140224</td>\n",
       "      <td>hypothetical protein</td>\n",
       "    </tr>\n",
       "    <tr>\n",
       "      <th>3</th>\n",
       "      <td>47</td>\n",
       "      <td>CLJU_RS00415</td>\n",
       "      <td>882.760957</td>\n",
       "      <td>597.513584</td>\n",
       "      <td>1.477391</td>\n",
       "      <td>0.213465</td>\n",
       "      <td>hypothetical protein</td>\n",
       "    </tr>\n",
       "    <tr>\n",
       "      <th>4</th>\n",
       "      <td>79</td>\n",
       "      <td>CLJU_RS00680</td>\n",
       "      <td>18.463463</td>\n",
       "      <td>17.779418</td>\n",
       "      <td>1.038474</td>\n",
       "      <td>0.151564</td>\n",
       "      <td>thymidylate kinase</td>\n",
       "    </tr>\n",
       "  </tbody>\n",
       "</table>\n",
       "</div>"
      ],
      "text/plain": [
       "   Unnamed: 0       gene_id  hiav_ribo_rpkm_co  hiav_rna_rpkm_co  hi_co_te  \\\n",
       "0          12  CLJU_RS00085         101.272309         90.060027  1.124498   \n",
       "1          23  CLJU_RS00170          54.803626         49.298075  1.111679   \n",
       "2          30  CLJU_RS00240         122.340275         96.585991  1.266646   \n",
       "3          47  CLJU_RS00415         882.760957        597.513584  1.477391   \n",
       "4          79  CLJU_RS00680          18.463463         17.779418  1.038474   \n",
       "\n",
       "        cai                product  \n",
       "0  0.152722  seryl-tRNA synthetase  \n",
       "1  0.263932   hypothetical protein  \n",
       "2  0.140224   hypothetical protein  \n",
       "3  0.213465   hypothetical protein  \n",
       "4  0.151564     thymidylate kinase  "
      ]
     },
     "execution_count": 21,
     "metadata": {},
     "output_type": "execute_result"
    }
   ],
   "source": [
    "co_hi_te_genes.head()"
   ]
  },
  {
   "cell_type": "code",
   "execution_count": 23,
   "metadata": {},
   "outputs": [
    {
     "data": {
      "text/plain": [
       "0.0034931126378342807"
      ]
     },
     "execution_count": 23,
     "metadata": {},
     "output_type": "execute_result"
    }
   ],
   "source": [
    "np.cov(co_hi_te_genes.hi_co_te, co_hi_te_genes.cai)[0][1]"
   ]
  },
  {
   "cell_type": "code",
   "execution_count": 26,
   "metadata": {},
   "outputs": [
    {
     "data": {
      "text/plain": [
       "-4.95019390951787e-05"
      ]
     },
     "execution_count": 26,
     "metadata": {},
     "output_type": "execute_result"
    }
   ],
   "source": [
    "np.cov(co_lo_te_genes.low_co_te, co_lo_te_genes.cai)[0][1]"
   ]
  },
  {
   "cell_type": "code",
   "execution_count": 35,
   "metadata": {
    "scrolled": true
   },
   "outputs": [
    {
     "data": {
      "text/plain": [
       "<matplotlib.collections.PathCollection at 0x7fba0e672850>"
      ]
     },
     "execution_count": 35,
     "metadata": {},
     "output_type": "execute_result"
    },
    {
     "data": {
      "image/png": "[encoded data removed]",
      "text/plain": [
       "<matplotlib.figure.Figure at 0x7fba12d2ded0>"
      ]
     },
     "metadata": {},
     "output_type": "display_data"
    }
   ],
   "source": [
    "#plt.scatter(co_hi_te_genes.cai, co_hi_te_genes.hi_co_te)\n",
    "plt.scatter(co_lo_te_genes.cai, co_lo_te_genes.low_co_te, color='red')\n"
   ]
  },
  {
   "cell_type": "code",
   "execution_count": 54,
   "metadata": {
    "scrolled": true
   },
   "outputs": [
    {
     "data": {
      "text/plain": [
       "SpearmanrResult(correlation=-0.064769466478581714, pvalue=0.10742424876735572)"
      ]
     },
     "execution_count": 54,
     "metadata": {},
     "output_type": "execute_result"
    }
   ],
   "source": [
    "sp.stats.spearmanr(co_lo_te_genes.cai, co_lo_te_genes.low_co_te) #no correlation between cai and te"
   ]
  },
  {
   "cell_type": "code",
   "execution_count": 33,
   "metadata": {
    "scrolled": true
   },
   "outputs": [
    {
     "data": {
      "text/plain": [
       "<matplotlib.collections.PathCollection at 0x7fba0e7b1450>"
      ]
     },
     "execution_count": 33,
     "metadata": {},
     "output_type": "execute_result"
    },
    {
     "data": {
      "image/png": "[encoded data removed]",
      "text/plain": [
       "<matplotlib.figure.Figure at 0x7fba12d2d2d0>"
      ]
     },
     "metadata": {},
     "output_type": "display_data"
    }
   ],
   "source": [
    "plt.scatter(co_hi_te_genes.cai, co_hi_te_genes.hi_co_te)"
   ]
  },
  {
   "cell_type": "code",
   "execution_count": 26,
   "metadata": {},
   "outputs": [
    {
     "data": {
      "text/plain": [
       "(0.098027588469156893, 0.0141410826568185)"
      ]
     },
     "execution_count": 26,
     "metadata": {},
     "output_type": "execute_result"
    }
   ],
   "source": [
    "sp.stats.pearsonr(co_hi_te_genes.cai, co_hi_te_genes.hi_co_te)# also no correlation between cai and te"
   ]
  },
  {
   "cell_type": "markdown",
   "metadata": {},
   "source": [
    "# try to see if high CAI will correlate better to TE genes"
   ]
  },
  {
   "cell_type": "code",
   "execution_count": 57,
   "metadata": {
    "tags": []
   },
   "outputs": [],
   "source": [
    "df2=pd.read_excel('/home/m/Dropbox/Clostridium_paper/CLJU_omics_df.xls')"
   ]
  },
  {
   "cell_type": "code",
   "execution_count": null,
   "metadata": {
    "tags": []
   },
   "outputs": [],
   "source": []
  },
  {
   "cell_type": "markdown",
   "metadata": {},
   "source": [
    "## check whether TE is constant regardless of condition"
   ]
  },
  {
   "cell_type": "code",
   "execution_count": 58,
   "metadata": {},
   "outputs": [],
   "source": [
    "df2=df2.fillna(0.0)\n",
    "df2=df2.replace('inf',0)"
   ]
  },
  {
   "cell_type": "code",
   "execution_count": 59,
   "metadata": {},
   "outputs": [
    {
     "data": {
      "text/plain": [
       "(SpearmanrResult(correlation=0.82993255926412168, pvalue=0.0),\n",
       " SpearmanrResult(correlation=0.67793047887389268, pvalue=0.0),\n",
       " SpearmanrResult(correlation=0.71650690769792147, pvalue=0.0))"
      ]
     },
     "execution_count": 59,
     "metadata": {},
     "output_type": "execute_result"
    }
   ],
   "source": [
    "sp.stats.spearmanr(df2.h2c_te, df2.co_te),sp.stats.spearmanr(df2.h2c_te, df2.hf_te),sp.stats.spearmanr(df2.hf_te, df2.co_te)# spearman is high"
   ]
  },
  {
   "cell_type": "code",
   "execution_count": 60,
   "metadata": {
    "tags": []
   },
   "outputs": [],
   "source": [
    "df2=pd.merge(df2, clju_cai, on='gene_id' )"
   ]
  },
  {
   "cell_type": "code",
   "execution_count": 61,
   "metadata": {},
   "outputs": [
    {
     "data": {
      "text/plain": [
       "(SpearmanrResult(correlation=0.099710606257202183, pvalue=1.4823490293117444e-10),\n",
       " SpearmanrResult(correlation=0.14437655272402955, pvalue=1.3658122795082882e-20),\n",
       " SpearmanrResult(correlation=0.14488830106325704, pvalue=9.9766456767183168e-21))"
      ]
     },
     "execution_count": 61,
     "metadata": {},
     "output_type": "execute_result"
    }
   ],
   "source": [
    "sp.stats.spearmanr(df2.h2c_te, df2.cai),sp.stats.spearmanr(df2.hf_te, df2.cai),sp.stats.spearmanr(df2.co_te, df2.cai)# spearman is high"
   ]
  },
  {
   "cell_type": "code",
   "execution_count": null,
   "metadata": {
    "tags": []
   },
   "outputs": [],
   "source": []
  },
  {
   "cell_type": "code",
   "execution_count": 32,
   "metadata": {
    "tags": []
   },
   "outputs": [],
   "source": [
    "# low correlation between CAI and TE"
   ]
  },
  {
   "cell_type": "markdown",
   "metadata": {},
   "source": [
    "## check whether TE is correlated with 5'UTR delta G"
   ]
  },
  {
   "cell_type": "code",
   "execution_count": 62,
   "metadata": {
    "tags": []
   },
   "outputs": [],
   "source": [
    "dg = pd.read_csv('/home/m/Dropbox/Clostridium_paper/40_bp_upstream_of_ATG_deltaG_filtered.txt', sep='\\t', names=['gene_id', 'dG'])"
   ]
  },
  {
   "cell_type": "code",
   "execution_count": 63,
   "metadata": {},
   "outputs": [],
   "source": [
    "df2=pd.merge(df2, dg)"
   ]
  },
  {
   "cell_type": "code",
   "execution_count": 64,
   "metadata": {},
   "outputs": [
    {
     "data": {
      "text/plain": [
       "(SpearmanrResult(correlation=-0.0120192825579959, pvalue=0.44104203065593195),\n",
       " SpearmanrResult(correlation=-0.001017555365481774, pvalue=0.94799656384635744))"
      ]
     },
     "execution_count": 64,
     "metadata": {},
     "output_type": "execute_result"
    }
   ],
   "source": [
    "sp.stats.spearmanr(df2.dG, df2.cai),sp.stats.spearmanr(df2.hf_te, df2.dG)"
   ]
  },
  {
   "cell_type": "code",
   "execution_count": 65,
   "metadata": {},
   "outputs": [],
   "source": [
    "mrna_dg=pd.read_csv('/home/m/Dropbox/Clostridium_paper/secondary_structure_genes/CLJU_REF_delta_G_normalized_by_length.txt', sep='\\t', names=['gene_id', 'mrna_dg'])"
   ]
  },
  {
   "cell_type": "code",
   "execution_count": 66,
   "metadata": {
    "scrolled": true
   },
   "outputs": [],
   "source": [
    "df2=pd.merge(df2, mrna_dg)"
   ]
  },
  {
   "cell_type": "code",
   "execution_count": 67,
   "metadata": {
    "scrolled": true
   },
   "outputs": [
    {
     "data": {
      "text/plain": [
       "SpearmanrResult(correlation=-0.099482118619800899, pvalue=1.6327483827673869e-10)"
      ]
     },
     "execution_count": 67,
     "metadata": {},
     "output_type": "execute_result"
    }
   ],
   "source": [
    "sp.stats.spearmanr(df2.mrna_dg, df2.cai)"
   ]
  },
  {
   "cell_type": "markdown",
   "metadata": {},
   "source": [
    "# NO CORRELATION IS FOUND"
   ]
  },
  {
   "cell_type": "markdown",
   "metadata": {},
   "source": [
    "## pause site correction is probably needed to get better correlations\n",
    "Background:\n",
    "1. There is no correlation between TE and CAI in our data. \n",
    "2. This is likely due to the fact that we cannot distinguish between translating ribosomes and pausing ones. \n",
    "3. Accordingly, we will correct for pause sites using average coverage + 1sd, 2sd,... 5sd. Then see which one gives best correlation with CAI. so CAI is gonna be used as the gold standard for TE"
   ]
  },
  {
   "cell_type": "code",
   "execution_count": 68,
   "metadata": {},
   "outputs": [],
   "source": [
    "def center_weighting_from_sam(bamFile,min_read_length=20,max_read_length=42,reference='NC_000913'):\n",
    "    \"\"\"Function: Center weighting is achieved by taking off 1/2 the min_read_length at each end of each read and weighting the \n",
    "    remaining nucleotides in the center equally. This is summed up for all reads at one position. Minimum and\n",
    "    maximum read length allowed can be set (default of 20/42)\n",
    "\tInput1(bamFile): Bamfile of ribosome profile reads mapped to the reference genome\n",
    "\tInput2(min_read_length): Integer of the minimum read length to include\n",
    "\tInput3(max_read_length): Integer of the maximum read length to include\n",
    "\tInput4(reference): NCBI identifier of organism to use\n",
    "    Output1: Write .gff file of read densities at every nucleotide position on + and - strands in current directory\n",
    "    Output2: Returns dataframe of read densities at every nucleotide position on + and - strands \n",
    "    \"\"\"\n",
    "    \n",
    "    bamfile = ps.Samfile( bamFile )\n",
    "    base_name = bamFile[:-4]\n",
    "    \n",
    "    ### NEED TO GENERALIZE THIS TO ACCOUNT FOR MULTIPLE CHROMOSOMES...SEE ALI'S SCRIPT\n",
    "    #Checks for reference in bamfile\n",
    "    if not reference in bamfile.references:\n",
    "            print 'Reference ID is invalid. These are your options:\\n'\n",
    "            for ref in bamfile.references: print ref+'\\n'\n",
    "            return\n",
    "    for i,ref in enumerate(bamfile.references):\n",
    "        if ref == reference:\n",
    "            ref_id = i\n",
    "    \n",
    "    center_weight_plus=np.zeros(int(bamfile.lengths[0]))  #to make sure that all positions in the genome are accounted for, even those without reads\n",
    "    center_weight_minus=np.zeros(int(bamfile.lengths[0]))\n",
    "    for read in bamfile:\n",
    "        if read.is_unmapped == True:\n",
    "            continue\n",
    "        if not read.rname == ref_id:\n",
    "            continue\n",
    "        if min_read_length > read.qlen or max_read_length < read.qlen:\n",
    "            continue\n",
    "        center_left = read.pos + min_read_length/2\n",
    "        center_right = int(read.aend) - min_read_length/2\n",
    "        center_length = center_right - center_left + 1\n",
    "\t#center weighting is done above by removing the min read length from each end and giving each position a weight inversely proportional to the resulting read length\n",
    "        if read.is_reverse==False:\n",
    "            center_weight_plus[center_left:center_right+1]+= (1./center_length)\n",
    "        else:\n",
    "            center_weight_minus[center_left:center_right+1]+= (1./center_length)\n",
    "        #center weights for each of the reads are summed up at every nucleotide position for the plus and minus strands separately\n",
    "    gff = open('%s_center_weighted.gff'%base_name,'w')\n",
    "    for item in center_weight_plus:\n",
    "        if center_weight_plus[item]!=0:\n",
    "            gff.write('%s\\tcenter_weighted\\t%s\\t%i\\t%i\\t%f\\t+\\t.\\t.\\n'%(reference,base_name,item,item,center_weight_plus[item]))\n",
    "    for item in center_weight_minus:\n",
    "        if center_weight_minus[item]!=0:\n",
    "            gff.write('%s\\tcenter_weighted\\t%s\\t%i\\t%i\\t%f\\t-\\t.\\t.\\n'%(reference,base_name,item,item,center_weight_minus[item]))\n",
    "    gff.close()\n",
    "    \n",
    "    df= pd.DataFrame({'plus':center_weight_plus,'minus':center_weight_minus}, columns = [\"plus\", \"minus\"], index = range(1, len(center_weight_plus) + 1))\n",
    "    df.to_csv('%s_center_weighted_df.csv'%base_name)\n",
    "    return df\n",
    "\n",
    "\n",
    "def countReads(densitydf):\n",
    "    return densitydf.plus.sum() + densitydf.minus.sum()\n",
    "    \n",
    "\n",
    "\n",
    "def pause_site_correction(genes, readdensities, totalreads, method='std_dev',set_to_zero=False, aa_ends_excluded=5): \n",
    "    pause_corrected_read_densities = readdensities.copy()\n",
    "    pause_corrected_read_densities['plus'] = 0.000\n",
    "    pause_corrected_read_densities['minus'] = 0.000    #make a copy of the read densities and set the initial values for correction columns to 0.\n",
    "    for index, row in genes.iterrows():\n",
    "        start = row['start'] + aa_ends_excluded*3-1 #exclude first and last 5 codons to remove effects of translation initiation and termination\n",
    "        stop = row['stop'] - aa_ends_excluded*3\n",
    "        strand = row['strand']\n",
    "        length = stop - start + 1\n",
    "        gene_series = readdensities[strand][start:stop]\n",
    "        ave = gene_series.sum()/length #find the average occupancy across the gene\n",
    "        try: std_dev = np.std(gene_series/float(length))/gene_series.sum() #find the standard deviation\n",
    "        except: continue\n",
    "        if method == 'std_dev':\n",
    "            threshold = ave + 6*std_dev\n",
    "            #print threshold\n",
    "        for i in range(length):\n",
    "            if readdensities[strand][start+i] < threshold: #pause sites are considered to be nucleotides where occupancy is > threshold \n",
    "                pause_corrected_read_densities.ix[start+i, strand]= readdensities[strand][start+i]\n",
    "            elif set_to_zero: #occupancy on identified pause sites are reduced to threshold value\n",
    "                pause_corrected_read_densities.ix[start+i, strand] = 0.\n",
    "            else:\n",
    "                pause_corrected_read_densities.ix[start+i, strand] = threshold\n",
    "    return pause_corrected_read_densities"
   ]
  },
  {
   "cell_type": "code",
   "execution_count": 69,
   "metadata": {},
   "outputs": [
    {
     "name": "stderr",
     "output_type": "stream",
     "text": [
      "/home/m/anaconda2/lib/python2.7/site-packages/ipykernel/__main__.py:46: VisibleDeprecationWarning: using a non-integer number instead of an integer will result in an error in the future\n",
      "/home/m/anaconda2/lib/python2.7/site-packages/ipykernel/__main__.py:47: VisibleDeprecationWarning: using a non-integer number instead of an integer will result in an error in the future\n",
      "/home/m/anaconda2/lib/python2.7/site-packages/ipykernel/__main__.py:49: VisibleDeprecationWarning: using a non-integer number instead of an integer will result in an error in the future\n"
     ]
    }
   ],
   "source": [
    "bamFile=\"/home/m/Desktop/h2co2_ribo-seq_rna-seq_tss_real/ribo_and_rna-seq/H2CO2-ribo1/sorted_H2CO2_ribo1.bam\"\n",
    "test1=center_weighting_from_sam(bamFile,min_read_length=20,max_read_length=42,reference='gi|300853232|ref|NC_014328.1|')"
   ]
  },
  {
   "cell_type": "code",
   "execution_count": 214,
   "metadata": {},
   "outputs": [],
   "source": [
    "def readDensity2Gene (data_frame):\n",
    "    infile = SeqIO.read('/home/m/genome_files/REF-seq_CLJU.gbk','gb')\n",
    "    genes =[]\n",
    "    name = []\n",
    "    product = []\n",
    "    func = []\n",
    "    strand = []\n",
    "    start = []\n",
    "    stop = []\n",
    "    aaseq = []\n",
    "    cds_seq = []\n",
    "    totalreads = []\n",
    "\n",
    "    #genome_seq_df = pd.DataFrame({'sequence':list(str(infile.seq))},index=range(1,len(str(infile.seq))+1))\n",
    "    for feature in infile.features:\n",
    "        if feature.type == 'CDS' and 'product' in feature.qualifiers:  #Only cares for coding sequences which are not pseudogenes\n",
    "            genes.append(feature.qualifiers['locus_tag'][0])\n",
    "            try: name.append(feature.qualifiers['gene'][0])\n",
    "            except: name.append('')\n",
    "            product.append(feature.qualifiers['product'][0])\n",
    "            cds_seq.append(feature.location.extract(infile.seq).tostring())\n",
    "            if 'function' in feature.qualifiers:                       #not all genes have known functions\n",
    "                func.append(feature.qualifiers['function'][0])\n",
    "            else:\n",
    "                func.append(\"N/A\")\n",
    "            try:\n",
    "                aaseq.append(feature.qualifiers['translation'][0])\n",
    "            except:\n",
    "                aaseq.append(\"N/A\")\n",
    "            if feature.strand == 1:\n",
    "                strand.append(\"plus\")\n",
    "                start.append(feature.location.start.real+1)\n",
    "                stop.append(feature.location.end.real)\n",
    "            elif feature.strand == -1:\n",
    "                strand.append(\"minus\")\n",
    "                start.append(feature.location.start.real+1)\n",
    "                stop.append(feature.location.end.real)\n",
    "    df = pd.DataFrame({\"gene\": genes, \"name\": name, \"product\": product, \"function\": func, \"strand\": strand, \"start\": start, \"stop\": stop, \"cds_seq\":cds_seq,\"aaseq\": aaseq},\n",
    "                          columns = [\"gene\", \"name\", \"function\", \"product\", \"strand\", \"start\", \"stop\", \"cds_seq\",\"aaseq\"])\n",
    "    \n",
    "    readdens=data_frame.copy()\n",
    "    for index, row in df.iterrows():\n",
    "        start = row['start']+14\n",
    "        stop = row['stop']-15\n",
    "        strand = row['strand']\n",
    "        length = stop - start + 1\n",
    "        totalreads= readdens[strand][start:stop].sum()\n",
    "    \n",
    "    \n",
    "   \n",
    "    expression = []\n",
    "    ind_list=[]\n",
    "    gene_list=[]\n",
    "    for index, row in df.iterrows():\n",
    "        start = row['start']+14 #exclude first and last 5 codons to remove effects of translation initiation and termination\n",
    "        stop = row['stop'] -15\n",
    "        strand = row['strand']\n",
    "        length = row['stop'] - row['start'] + 1\n",
    "        genesum = readdens[strand][start: stop].sum() * 1000000000/ length/ totalreads\n",
    "        expression.append(genesum)\n",
    "        ind_list.append(index)\n",
    "        gene_list.append(row['gene'])\n",
    "    translation = str(data_frame)\n",
    "    gene_expression_df = pd.DataFrame({'gene_id': gene_list, 'translation':expression},index=ind_list, columns =['gene_id', 'translation'])\n",
    "    return gene_expression_df\n",
    "\n",
    "    "
   ]
  },
  {
   "cell_type": "code",
   "execution_count": 195,
   "metadata": {},
   "outputs": [
    {
     "data": {
      "text/plain": [
       "SpearmanrResult(correlation=0.075444896726293523, pvalue=1.2806196482255532e-06)"
      ]
     },
     "execution_count": 195,
     "metadata": {},
     "output_type": "execute_result"
    }
   ],
   "source": [
    "std5=pd.merge(std5,clju_cai)\n",
    "sp.stats.spearmanr(std5.translation, std5.cai)"
   ]
  },
  {
   "cell_type": "code",
   "execution_count": 201,
   "metadata": {},
   "outputs": [
    {
     "data": {
      "text/plain": [
       "SpearmanrResult(correlation=0.075422380268204761, pvalue=1.2899975153627634e-06)"
      ]
     },
     "execution_count": 201,
     "metadata": {},
     "output_type": "execute_result"
    }
   ],
   "source": [
    "std4=pd.merge(std4,clju_cai)\n",
    "sp.stats.spearmanr(std4.translation, std4.cai)"
   ]
  },
  {
   "cell_type": "code",
   "execution_count": 207,
   "metadata": {},
   "outputs": [
    {
     "data": {
      "text/plain": [
       "SpearmanrResult(correlation=0.075394755836627275, pvalue=1.3015930203533441e-06)"
      ]
     },
     "execution_count": 207,
     "metadata": {},
     "output_type": "execute_result"
    }
   ],
   "source": [
    "std3=pd.merge(std3,clju_cai)\n",
    "sp.stats.spearmanr(std3.translation, std3.cai)"
   ]
  },
  {
   "cell_type": "code",
   "execution_count": 216,
   "metadata": {},
   "outputs": [
    {
     "data": {
      "text/plain": [
       "SpearmanrResult(correlation=0.07536369342040225, pvalue=1.3147513401578994e-06)"
      ]
     },
     "execution_count": 216,
     "metadata": {},
     "output_type": "execute_result"
    }
   ],
   "source": [
    "std2=readDensity2Gene(test1)\n",
    "std2=pd.merge(std2,clju_cai)\n",
    "sp.stats.spearmanr(std2.translation, std2.cai)"
   ]
  },
  {
   "cell_type": "code",
   "execution_count": 220,
   "metadata": {},
   "outputs": [
    {
     "data": {
      "text/plain": [
       "SpearmanrResult(correlation=0.075470886830183048, pvalue=1.2698765416403387e-06)"
      ]
     },
     "execution_count": 220,
     "metadata": {},
     "output_type": "execute_result"
    }
   ],
   "source": [
    "std6=readDensity2Gene(test1)\n",
    "std6=pd.merge(std6,clju_cai)\n",
    "sp.stats.spearmanr(std6.translation, std6.cai)"
   ]
  },
  {
   "cell_type": "code",
   "execution_count": null,
   "metadata": {
    "collapsed": true,
    "jupyter": {
     "outputs_hidden": true
    }
   },
   "outputs": [],
   "source": []
  },
  {
   "cell_type": "code",
   "execution_count": null,
   "metadata": {
    "collapsed": true,
    "jupyter": {
     "outputs_hidden": true
    }
   },
   "outputs": [],
   "source": []
  },
  {
   "cell_type": "code",
   "execution_count": 41,
   "metadata": {},
   "outputs": [],
   "source": [
    "from Bio import SeqIO\n",
    "infile = SeqIO.read('/home/m/genome_files/NZ_CP008776.gb','gb')\n",
    "genes =[]\n",
    "name = []\n",
    "product = []\n",
    "func = []\n",
    "strand = []\n",
    "start = []\n",
    "stop = []\n",
    "aaseq = []\n",
    "cds_seq = []\n",
    "\n",
    "    #genome_seq_df = pd.DataFrame({'sequence':list(str(infile.seq))},index=range(1,len(str(infile.seq))+1))\n",
    "for feature in infile.features:\n",
    "    if feature.type == 'CDS' and 'product' in feature.qualifiers:  #Only cares for coding sequences which are not pseudogenes\n",
    "        genes.append(feature.qualifiers['locus_tag'][0])\n",
    "        try: name.append(feature.qualifiers['gene'][0])\n",
    "        except: name.append('')\n",
    "        product.append(feature.qualifiers['product'][0])\n",
    "        cds_seq.append(feature.location.extract(infile.seq).tostring())\n",
    "        if 'function' in feature.qualifiers:                       #not all genes have known functions\n",
    "            func.append(feature.qualifiers['function'][0])\n",
    "        else:\n",
    "            func.append(\"N/A\")\n",
    "        try:\n",
    "            aaseq.append(feature.qualifiers['translation'][0])\n",
    "        except:\n",
    "            aaseq.append(\"N/A\")\n",
    "        if feature.strand == 1:\n",
    "            strand.append(\"plus\")\n",
    "            start.append(feature.location.start.real+1)\n",
    "            stop.append(feature.location.end.real)\n",
    "        elif feature.strand == -1:\n",
    "            strand.append(\"minus\")\n",
    "            start.append(feature.location.start.real+1)\n",
    "            stop.append(feature.location.end.real)\n",
    "gene_df = pd.DataFrame({\"gene_id\": genes, \"name\": name, \"product\": product, \"function\": func, \"strand\": strand, \"start\": start, \"stop\": stop, \"cds_seq\":cds_seq,\"aaseq\": aaseq},\n",
    "                          columns = [\"gene_id\", \"name\", \"function\", \"product\", \"strand\", \"start\", \"stop\", \"cds_seq\",\"aaseq\"])\n",
    "\n",
    "\n"
   ]
  },
  {
   "cell_type": "code",
   "execution_count": 42,
   "metadata": {
    "collapsed": true,
    "jupyter": {
     "outputs_hidden": true
    }
   },
   "outputs": [],
   "source": [
    "gas_cai = get_codon_adaptation_index('/home/m/genome_files/NZ_CP008776.fna')"
   ]
  },
  {
   "cell_type": "code",
   "execution_count": 44,
   "metadata": {},
   "outputs": [],
   "source": [
    "gene_df=gene_df[[u'gene_id', u'product',]]\n",
    "gas_cai = pd.merge(gas_cai,gene_df)\n",
    "gas_cai = gas_cai.sort_values(by='cai', ascending=False)"
   ]
  },
  {
   "cell_type": "code",
   "execution_count": 45,
   "metadata": {},
   "outputs": [],
   "source": [
    "gas_cai=gas_cai[gas_cai.cai!='problem']"
   ]
  },
  {
   "cell_type": "code",
   "execution_count": 227,
   "metadata": {},
   "outputs": [],
   "source": [
    "gene_df['chr']='NZ_CP008776'\n",
    "gene_df=gene_df[['gene_id','chr','start','stop','strand']]\n",
    "gene_df.columns=['GeneID','Chr', 'Start','End','Strand']"
   ]
  },
  {
   "cell_type": "code",
   "execution_count": 231,
   "metadata": {
    "collapsed": true,
    "jupyter": {
     "outputs_hidden": true
    }
   },
   "outputs": [],
   "source": [
    "gene_df.to_csv('/home/m/genome_files/NZ_CP008776.saf', sep='\\t', index=False)"
   ]
  },
  {
   "cell_type": "code",
   "execution_count": null,
   "metadata": {
    "collapsed": true,
    "jupyter": {
     "outputs_hidden": true
    }
   },
   "outputs": [],
   "source": []
  }
 ],
 "metadata": {
  "kernelspec": {
   "display_name": "Python 3",
   "language": "python",
   "name": "python3"
  },
  "language_info": {
   "codemirror_mode": {
    "name": "ipython",
    "version": 3
   },
   "file_extension": ".py",
   "mimetype": "text/x-python",
   "name": "python",
   "nbconvert_exporter": "python",
   "pygments_lexer": "ipython3",
   "version": "3.8.8"
  }
 },
 "nbformat": 4,
 "nbformat_minor": 4
}
