{
 "cells": [
  {
   "cell_type": "code",
   "execution_count": 17,
   "metadata": {
    "collapsed": true,
    "jupyter": {
     "outputs_hidden": true
    }
   },
   "outputs": [],
   "source": [
    "%matplotlib inline\n",
    "import pandas as pd\n",
    "import numpy as np\n",
    "import scipy.stats as sp\n",
    "import matplotlib.pyplot as plt\n",
    "import seaborn as sns\n",
    "from Bio import SeqIO\n",
    "from Bio.Seq import *\n",
    "import os"
   ]
  },
  {
   "cell_type": "code",
   "execution_count": null,
   "metadata": {
    "collapsed": true,
    "jupyter": {
     "outputs_hidden": true
    }
   },
   "outputs": [],
   "source": []
  },
  {
   "cell_type": "code",
   "execution_count": 18,
   "metadata": {
    "collapsed": false,
    "jupyter": {
     "outputs_hidden": false
    }
   },
   "outputs": [],
   "source": [
    "kegg=pd.read_excel('/home/m/Dropbox/Clostridium_paper/Kegg/clju_path_annotation.xls')\n",
    "my_df = pd.read_excel('/home/m/Dropbox/Clostridium_paper/CLJU_omics_df.xls')\n",
    "save = pd.merge(kegg,my_df, on='gene_id',how='outer')\n"
   ]
  },
  {
   "cell_type": "code",
   "execution_count": 68,
   "metadata": {
    "collapsed": false,
    "jupyter": {
     "outputs_hidden": false
    }
   },
   "outputs": [],
   "source": [
    "co_hf_rna=  pd.read_csv('/home/m/Dropbox/Clostridium_paper/data_analysis/results_12_21_2016/D_transcription_genes_HF_vs_CO_new_annotation.txt', sep='\\t')\n",
    "co_hf_rna=co_hf_rna[['id', 'foldChange', 'log2FoldChange', 'padj']]\n",
    "co_hf_rna['log2FoldChange']=co_hf_rna['log2FoldChange']* -1\n",
    "co_hf_rna.rename(columns={'foldChange':'foldChange_co_hf_rna', 'log2FoldChange':'log2FoldChange_co_hf_rna', 'padj':'padj_co_hf_rna'}, inplace = True)\n",
    "\n",
    "co_h2c_rna=pd.read_csv('/home/m/Dropbox/Clostridium_paper/data_analysis/results_12_21_2016/D_transcription_genes_H2CO2_vs_CO_new_annotation.txt', sep='\\t')\n",
    "co_h2c_rna=co_h2c_rna[['id', 'foldChange', 'log2FoldChange', 'padj']]\n",
    "co_h2c_rna.rename(columns={'foldChange':'foldChange_co_h2c_rna', 'log2FoldChange':'log2FoldChange_co_h2c_rna', 'padj':'padj_co_h2c_rna'}, inplace = True)\n",
    "hf_h2c_rna=pd.read_csv('/home/m/Dropbox/Clostridium_paper/data_analysis/results_12_21_2016/D_transcription_genes_resHF_vs_H2CO2_new_annotation.txt', sep='\\t')\n",
    "hf_h2c_rna=hf_h2c_rna[['id', 'foldChange', 'log2FoldChange', 'padj']]\n",
    "hf_h2c_rna.rename(columns={'foldChange':'foldChange_hf_h2c_rna', 'log2FoldChange':'log2FoldChange_hf_h2c_rna', 'padj':'padj_hf_h2c_rna'}, inplace = True)\n"
   ]
  },
  {
   "cell_type": "code",
   "execution_count": 69,
   "metadata": {
    "collapsed": false,
    "jupyter": {
     "outputs_hidden": false
    }
   },
   "outputs": [],
   "source": [
    "rna_de_merge = pd.merge(co_hf_rna, co_h2c_rna, on='id',how='outer')\n",
    "rna_de_merge = pd.merge(rna_de_merge, hf_h2c_rna, on='id',how='outer')"
   ]
  },
  {
   "cell_type": "code",
   "execution_count": 70,
   "metadata": {
    "collapsed": true,
    "jupyter": {
     "outputs_hidden": true
    }
   },
   "outputs": [],
   "source": [
    "co_hf_ribo=pd.read_csv('/home/m/Dropbox/Clostridium_paper/data_analysis/results_12_21_2016/riboseq_DT_genes_HF_vs_CO_new_annotation.txt', sep='\\t')\n",
    "co_hf_ribo=co_hf_ribo[['id', 'foldChange', 'log2FoldChange', 'padj']]\n",
    "co_hf_ribo.rename(columns={'foldChange':'foldChange_co_hf_ribo', 'log2FoldChange':'log2FoldChange_co_hf_ribo', 'padj':'padj_co_hf_ribo'}, inplace = True)\n",
    "co_h2c_ribo=pd.read_csv('/home/m/Dropbox/Clostridium_paper/data_analysis/results_12_21_2016/riboseq_DT_genes_H2CO2_vs_CO_annotation.txt.txt', sep='\\t')\n",
    "co_h2c_ribo=co_h2c_ribo[['id', 'foldChange', 'log2FoldChange', 'padj']]\n",
    "co_h2c_ribo.rename(columns={'foldChange':'foldChange_co_h2c_ribo', 'log2FoldChange':'log2FoldChange_co_h2c_ribo', 'padj':'padj_co_h2c_ribo'}, inplace = True)\n",
    "hf_h2c_ribo=pd.read_csv('/home/m/Dropbox/Clostridium_paper/data_analysis/results_12_21_2016/riboseq_DT_genes_resHF_vs_H2CO2_annotation.txt.txt', sep='\\t')\n",
    "hf_h2c_ribo=hf_h2c_ribo[['id', 'foldChange', 'log2FoldChange', 'padj']]\n",
    "hf_h2c_ribo.rename(columns={'foldChange':'foldChange_hf_h2c_ribo', 'log2FoldChange':'log2FoldChange_hf_h2c_ribo', 'padj':'padj_hf_h2c_ribo'}, inplace = True)\n"
   ]
  },
  {
   "cell_type": "code",
   "execution_count": 71,
   "metadata": {
    "collapsed": false,
    "jupyter": {
     "outputs_hidden": false
    }
   },
   "outputs": [],
   "source": [
    "ribo_de_merge = pd.merge(co_hf_ribo, co_h2c_ribo, on='id', how='outer')\n",
    "ribo_de_merge = pd.merge(ribo_de_merge, hf_h2c_ribo, on='id',how='outer')"
   ]
  },
  {
   "cell_type": "code",
   "execution_count": 72,
   "metadata": {
    "collapsed": true,
    "jupyter": {
     "outputs_hidden": true
    }
   },
   "outputs": [],
   "source": [
    "ribo_rna= pd.merge(ribo_de_merge, rna_de_merge, on='id', how='outer')"
   ]
  },
  {
   "cell_type": "code",
   "execution_count": 73,
   "metadata": {
    "collapsed": false,
    "jupyter": {
     "outputs_hidden": false
    }
   },
   "outputs": [
    {
     "data": {
      "text/plain": [
       "0    CLJU_RS00005\n",
       "1    CLJU_RS00010\n",
       "2    CLJU_RS00015\n",
       "3    CLJU_RS00020\n",
       "4    CLJU_RS00025\n",
       "5    CLJU_RS00030\n",
       "6    CLJU_RS00035\n",
       "7    CLJU_RS00060\n",
       "8    CLJU_RS00065\n",
       "9    CLJU_RS00070\n",
       "Name: gene_id, dtype: object"
      ]
     },
     "execution_count": 73,
     "metadata": {},
     "output_type": "execute_result"
    }
   ],
   "source": [
    "my_df.gene_id[0:10]"
   ]
  },
  {
   "cell_type": "code",
   "execution_count": 74,
   "metadata": {
    "collapsed": false,
    "jupyter": {
     "outputs_hidden": false
    }
   },
   "outputs": [],
   "source": [
    "ribo_rna = pd.merge(ribo_rna, my_df, left_on= 'id', right_on='gene_id', how='outer')"
   ]
  },
  {
   "cell_type": "code",
   "execution_count": 75,
   "metadata": {
    "collapsed": false,
    "jupyter": {
     "outputs_hidden": false
    }
   },
   "outputs": [],
   "source": [
    "ribo_rna.to_excel('/home/m/Dropbox/Clostridium_paper/Omics_and_DESeq.xls')"
   ]
  },
  {
   "cell_type": "code",
   "execution_count": 72,
   "metadata": {
    "collapsed": true,
    "jupyter": {
     "outputs_hidden": true
    }
   },
   "outputs": [],
   "source": [
    "save = pd.merge(save, ribo_rna, left_on = 'gene_id', right_on='id',how='outer')"
   ]
  },
  {
   "cell_type": "code",
   "execution_count": 73,
   "metadata": {
    "collapsed": false,
    "jupyter": {
     "outputs_hidden": false
    }
   },
   "outputs": [],
   "source": [
    "save.to_excel('/home/m/Dropbox/Clostridium_paper/kegg_DESeq_RNA-seq_Ribo_seq_DF.xls')"
   ]
  },
  {
   "cell_type": "code",
   "execution_count": 75,
   "metadata": {
    "collapsed": false,
    "jupyter": {
     "outputs_hidden": false
    }
   },
   "outputs": [
    {
     "data": {
      "text/plain": [
       "Index([                   u'gene_id',                    u'kegg_id',\n",
       "               u'original_kegg_desc',                        u'cat',\n",
       "                             u'kegg',                    u'pathway',\n",
       "                      u'subcategory',                   u'Category',\n",
       "                 u'kegg_pathway_idx',                      u'index',\n",
       "                    u'old_gene_id_x',                      u'start',\n",
       "                             u'stop',                    u'product',\n",
       "                    u'old_gene_id_y',            u'av_ribo_rpkm_co',\n",
       "                  u'av_ribo_rpkm_hf',           u'av_ribo_rpkm_h2c',\n",
       "                   u'av_rna_rpkm_co',             u'av_rna_rpkm_hf',\n",
       "                  u'av_rna_rpkm_h2c',                      u'co_te',\n",
       "                            u'hf_te',                     u'h2c_te',\n",
       "                               u'id',      u'foldChange_co_hf_ribo',\n",
       "        u'log2FoldChange_co_hf_ribo',            u'padj_co_hf_ribo',\n",
       "           u'foldChange_co_h2c_ribo', u'log2FoldChange_co_h2c_ribo',\n",
       "                 u'padj_co_h2c_ribo',     u'foldChange_hf_h2c_ribo',\n",
       "       u'log2FoldChange_hf_h2c_ribo',           u'padj_hf_h2c_ribo',\n",
       "             u'foldChange_co_hf_rna',   u'log2FoldChange_co_hf_rna',\n",
       "                   u'padj_co_hf_rna',      u'foldChange_co_h2c_rna',\n",
       "        u'log2FoldChange_co_h2c_rna',            u'padj_co_h2c_rna',\n",
       "            u'foldChange_hf_h2c_rna',  u'log2FoldChange_hf_h2c_rna',\n",
       "                  u'padj_hf_h2c_rna'],\n",
       "      dtype='object')"
      ]
     },
     "execution_count": 75,
     "metadata": {},
     "output_type": "execute_result"
    }
   ],
   "source": [
    "save.columns"
   ]
  },
  {
   "cell_type": "markdown",
   "metadata": {},
   "source": [
    "## Significant HF differntially translated genes rules:\n",
    "1. padj <sig in both CO and H2:CO2\n",
    "2. log2 foldchange < -1 (two fold change)"
   ]
  },
  {
   "cell_type": "code",
   "execution_count": 178,
   "metadata": {
    "collapsed": false,
    "jupyter": {
     "outputs_hidden": false
    }
   },
   "outputs": [],
   "source": [
    "sig = 0.05\n",
    "hf = save[(save.padj_hf_h2c_ribo<sig) & (save.log2FoldChange_hf_h2c_ribo<-1.0) &(save.padj_co_hf_ribo<sig) &\n",
    "         (save.log2FoldChange_co_hf_ribo<-1.0) & (save.av_ribo_rpkm_hf>np.percentile(save.av_ribo_rpkm_hf,25))]\n",
    "auto=save[(save.padj_hf_h2c_ribo<sig) & (save.log2FoldChange_hf_h2c_ribo>1.0) &(save.padj_co_hf_ribo<sig) &\n",
    "         (save.log2FoldChange_co_hf_ribo>1.0) & (save.av_ribo_rpkm_co>np.percentile(save.av_ribo_rpkm_co,25))&\n",
    "         (save.av_ribo_rpkm_h2c>np.percentile(save.av_ribo_rpkm_h2c,25))]"
   ]
  },
  {
   "cell_type": "code",
   "execution_count": 179,
   "metadata": {
    "collapsed": false,
    "jupyter": {
     "outputs_hidden": false
    }
   },
   "outputs": [
    {
     "data": {
      "text/plain": [
       "(429, 500)"
      ]
     },
     "execution_count": 179,
     "metadata": {},
     "output_type": "execute_result"
    }
   ],
   "source": [
    "len(hf),len(auto)"
   ]
  },
  {
   "cell_type": "code",
   "execution_count": 175,
   "metadata": {
    "collapsed": false,
    "jupyter": {
     "outputs_hidden": false
    }
   },
   "outputs": [],
   "source": [
    "hf_groupby=hf.groupby(['subcategory','pathway','gene_id','old_gene_id_x','kegg']).sum()"
   ]
  },
  {
   "cell_type": "code",
   "execution_count": 176,
   "metadata": {
    "collapsed": true,
    "jupyter": {
     "outputs_hidden": true
    }
   },
   "outputs": [],
   "source": [
    "auto_groupby=auto.groupby(['subcategory','pathway','gene_id','old_gene_id_x','kegg']).sum()"
   ]
  },
  {
   "cell_type": "markdown",
   "metadata": {},
   "source": [
    "## Calling carbon-related genes from the subgroup and generating heterotrophic/autotrohpic groups"
   ]
  },
  {
   "cell_type": "code",
   "execution_count": 172,
   "metadata": {
    "collapsed": false,
    "jupyter": {
     "outputs_hidden": false
    }
   },
   "outputs": [],
   "source": [
    "carbon_hf = hf_groupby.ix[['Methane', 'Central carbohydrate', 'Carbon fixation']]\n",
    "carbon_auto = auto_groupby.ix[['Methane', 'Central carbohydrate', 'Carbon fixation']]"
   ]
  },
  {
   "cell_type": "code",
   "execution_count": 180,
   "metadata": {
    "collapsed": false,
    "jupyter": {
     "outputs_hidden": false
    }
   },
   "outputs": [],
   "source": [
    "hf.to_excel('/home/m/Desktop/temp.xls')\n",
    "auto.to_excel('/home/m/Desktop/temp1.xls')"
   ]
  },
  {
   "cell_type": "code",
   "execution_count": 184,
   "metadata": {
    "collapsed": false,
    "jupyter": {
     "outputs_hidden": false
    }
   },
   "outputs": [],
   "source": [
    "hf[['old_gene_id_x','log2FoldChange_co_hf_ribo']].to_csv('/home/m/Desktop/temp.csv',names=['genes','log2foldchange'], index=False)\n",
    "auto.old_gene_id_x.to_csv('/home/m/Desktop/temp1.csv')"
   ]
  },
  {
   "cell_type": "code",
   "execution_count": null,
   "metadata": {
    "collapsed": true,
    "jupyter": {
     "outputs_hidden": true
    }
   },
   "outputs": [],
   "source": []
  }
 ],
 "metadata": {
  "kernelspec": {
   "display_name": "Python 3",
   "language": "python",
   "name": "python3"
  },
  "language_info": {
   "codemirror_mode": {
    "name": "ipython",
    "version": 3
   },
   "file_extension": ".py",
   "mimetype": "text/x-python",
   "name": "python",
   "nbconvert_exporter": "python",
   "pygments_lexer": "ipython3",
   "version": "3.8.8"
  }
 },
 "nbformat": 4,
 "nbformat_minor": 4
}
