{
 "cells": [
  {
   "cell_type": "code",
   "execution_count": 1,
   "metadata": {
    "collapsed": true,
    "jupyter": {
     "outputs_hidden": true
    }
   },
   "outputs": [],
   "source": [
    "%matplotlib inline\n",
    "import pandas as pd\n",
    "import numpy as np\n",
    "import matplotlib.pyplot as plt\n",
    "from Bio import SeqIO"
   ]
  },
  {
   "cell_type": "markdown",
   "metadata": {},
   "source": [
    "## get genome size from gbk file"
   ]
  },
  {
   "cell_type": "code",
   "execution_count": 2,
   "metadata": {
    "collapsed": false,
    "jupyter": {
     "outputs_hidden": false
    }
   },
   "outputs": [
    {
     "name": "stdout",
     "output_type": "stream",
     "text": [
      "4630065\n"
     ]
    }
   ],
   "source": [
    "infile = SeqIO.read('/home/m/genome_files/REF-seq_CLJU.gbk','gb')\n",
    "genome_size=''\n",
    "for r in infile.features[0:1]:\n",
    "    genome_size= len(r)\n",
    "print genome_size"
   ]
  },
  {
   "cell_type": "markdown",
   "metadata": {},
   "source": [
    "## import omics df which contains all data"
   ]
  },
  {
   "cell_type": "code",
   "execution_count": 3,
   "metadata": {
    "collapsed": false,
    "jupyter": {
     "outputs_hidden": false
    }
   },
   "outputs": [],
   "source": [
    "omics= pd.read_excel('/home/m/Dropbox/Clostridium_paper/CLJU_omics_df.xls')"
   ]
  },
  {
   "cell_type": "code",
   "execution_count": 4,
   "metadata": {
    "collapsed": false,
    "jupyter": {
     "outputs_hidden": false
    }
   },
   "outputs": [
    {
     "data": {
      "text/html": [
       "<div>\n",
       "<table border=\"1\" class=\"dataframe\">\n",
       "  <thead>\n",
       "    <tr style=\"text-align: right;\">\n",
       "      <th></th>\n",
       "      <th>gene_id</th>\n",
       "      <th>old_gene_id</th>\n",
       "      <th>av_ribo_rpkm_co</th>\n",
       "      <th>av_ribo_rpkm_hf</th>\n",
       "      <th>av_ribo_rpkm_h2c</th>\n",
       "      <th>av_rna_rpkm_co</th>\n",
       "      <th>av_rna_rpkm_hf</th>\n",
       "      <th>av_rna_rpkm_h2c</th>\n",
       "      <th>co_te</th>\n",
       "      <th>hf_te</th>\n",
       "      <th>h2c_te</th>\n",
       "    </tr>\n",
       "  </thead>\n",
       "  <tbody>\n",
       "    <tr>\n",
       "      <th>0</th>\n",
       "      <td>CLJU_RS00005</td>\n",
       "      <td>CLJU_c00010</td>\n",
       "      <td>30.907470</td>\n",
       "      <td>54.283921</td>\n",
       "      <td>56.255488</td>\n",
       "      <td>302.166750</td>\n",
       "      <td>301.233050</td>\n",
       "      <td>446.001139</td>\n",
       "      <td>0.102286</td>\n",
       "      <td>0.180206</td>\n",
       "      <td>0.126133</td>\n",
       "    </tr>\n",
       "    <tr>\n",
       "      <th>1</th>\n",
       "      <td>CLJU_RS00010</td>\n",
       "      <td>CLJU_c00020</td>\n",
       "      <td>5.999725</td>\n",
       "      <td>33.563496</td>\n",
       "      <td>5.768107</td>\n",
       "      <td>25.879322</td>\n",
       "      <td>35.111517</td>\n",
       "      <td>31.742726</td>\n",
       "      <td>0.231835</td>\n",
       "      <td>0.955911</td>\n",
       "      <td>0.181714</td>\n",
       "    </tr>\n",
       "    <tr>\n",
       "      <th>2</th>\n",
       "      <td>CLJU_RS00015</td>\n",
       "      <td>CLJU_c00030</td>\n",
       "      <td>7.930030</td>\n",
       "      <td>20.794130</td>\n",
       "      <td>18.230279</td>\n",
       "      <td>64.220289</td>\n",
       "      <td>85.874412</td>\n",
       "      <td>64.114905</td>\n",
       "      <td>0.123482</td>\n",
       "      <td>0.242146</td>\n",
       "      <td>0.284338</td>\n",
       "    </tr>\n",
       "    <tr>\n",
       "      <th>3</th>\n",
       "      <td>CLJU_RS00020</td>\n",
       "      <td>CLJU_c00040</td>\n",
       "      <td>5.884056</td>\n",
       "      <td>10.831297</td>\n",
       "      <td>5.337636</td>\n",
       "      <td>109.500968</td>\n",
       "      <td>185.040620</td>\n",
       "      <td>82.691535</td>\n",
       "      <td>0.053735</td>\n",
       "      <td>0.058535</td>\n",
       "      <td>0.064549</td>\n",
       "    </tr>\n",
       "    <tr>\n",
       "      <th>4</th>\n",
       "      <td>CLJU_RS00025</td>\n",
       "      <td>CLJU_c00050</td>\n",
       "      <td>12.337119</td>\n",
       "      <td>26.791583</td>\n",
       "      <td>18.526946</td>\n",
       "      <td>132.895890</td>\n",
       "      <td>269.184048</td>\n",
       "      <td>104.904829</td>\n",
       "      <td>0.092833</td>\n",
       "      <td>0.099529</td>\n",
       "      <td>0.176607</td>\n",
       "    </tr>\n",
       "  </tbody>\n",
       "</table>\n",
       "</div>"
      ],
      "text/plain": [
       "        gene_id  old_gene_id  av_ribo_rpkm_co  av_ribo_rpkm_hf  \\\n",
       "0  CLJU_RS00005  CLJU_c00010        30.907470        54.283921   \n",
       "1  CLJU_RS00010  CLJU_c00020         5.999725        33.563496   \n",
       "2  CLJU_RS00015  CLJU_c00030         7.930030        20.794130   \n",
       "3  CLJU_RS00020  CLJU_c00040         5.884056        10.831297   \n",
       "4  CLJU_RS00025  CLJU_c00050        12.337119        26.791583   \n",
       "\n",
       "   av_ribo_rpkm_h2c  av_rna_rpkm_co  av_rna_rpkm_hf  av_rna_rpkm_h2c  \\\n",
       "0         56.255488      302.166750      301.233050       446.001139   \n",
       "1          5.768107       25.879322       35.111517        31.742726   \n",
       "2         18.230279       64.220289       85.874412        64.114905   \n",
       "3          5.337636      109.500968      185.040620        82.691535   \n",
       "4         18.526946      132.895890      269.184048       104.904829   \n",
       "\n",
       "      co_te     hf_te    h2c_te  \n",
       "0  0.102286  0.180206  0.126133  \n",
       "1  0.231835  0.955911  0.181714  \n",
       "2  0.123482  0.242146  0.284338  \n",
       "3  0.053735  0.058535  0.064549  \n",
       "4  0.092833  0.099529  0.176607  "
      ]
     },
     "execution_count": 4,
     "metadata": {},
     "output_type": "execute_result"
    }
   ],
   "source": [
    "omics.head()"
   ]
  },
  {
   "cell_type": "markdown",
   "metadata": {},
   "source": [
    "## Omics data lacks gene coordinates, will get them from gbk file"
   ]
  },
  {
   "cell_type": "code",
   "execution_count": 5,
   "metadata": {
    "collapsed": false,
    "jupyter": {
     "outputs_hidden": false
    }
   },
   "outputs": [],
   "source": [
    "gene_id=[]\n",
    "start=[]\n",
    "stop=[]\n",
    "strand=[]\n",
    "for i in infile.features:\n",
    "    if i.type == 'CDS':\n",
    "        gene_id.append( i.qualifiers['locus_tag'][0])\n",
    "        start.append( i.location.start+1)\n",
    "        stop.append(i.location.end)\n",
    "        if i.strand == -1:\n",
    "            strand.append('-')\n",
    "        elif i.strand== 1:\n",
    "            strand.append('+')\n",
    "df = pd.DataFrame({'gene_id':gene_id, 'start':start, 'stop': stop, 'strand':strand},\n",
    "                  columns=['gene_id','start','stop','strand'])"
   ]
  },
  {
   "cell_type": "code",
   "execution_count": 6,
   "metadata": {
    "collapsed": false,
    "jupyter": {
     "outputs_hidden": false
    }
   },
   "outputs": [],
   "source": [
    "omics = pd.merge(omics, df, on='gene_id')"
   ]
  },
  {
   "cell_type": "code",
   "execution_count": 7,
   "metadata": {
    "collapsed": true,
    "jupyter": {
     "outputs_hidden": true
    }
   },
   "outputs": [],
   "source": [
    "omics=omics.replace(['inf', '-inf'], 0.0)"
   ]
  },
  {
   "cell_type": "code",
   "execution_count": 8,
   "metadata": {
    "collapsed": false,
    "jupyter": {
     "outputs_hidden": false
    }
   },
   "outputs": [],
   "source": [
    "#generate arrays of zeros the size of genome\n",
    "te_co_pos=np.zeros(genome_size)\n",
    "te_hf_pos=np.zeros(genome_size)\n",
    "te_h2c_pos=np.zeros(genome_size)\n",
    "te_co_neg=np.zeros(genome_size)\n",
    "te_hf_neg=np.zeros(genome_size)\n",
    "te_h2c_neg=np.zeros(genome_size)\n",
    "#modify each array with te values from co, hf, and h2c, otherwise it's zero\n",
    "for idx,r in omics.iterrows():\n",
    "    st = r['start']\n",
    "    sp = r['stop']\n",
    "    co = r['co_te']\n",
    "    hf = r['hf_te']\n",
    "    h2c= r['h2c_te']\n",
    "    sd = r['strand']\n",
    "    if sd =='+':\n",
    "        #te_co[st:sp]=[co for i in range(st,sp)]\n",
    "        te_co_pos[st:sp]=co\n",
    "        te_hf_pos[st:sp]=hf\n",
    "        te_h2c_pos[st:sp]=h2c\n",
    "    elif sd=='-':\n",
    "        #te_co[st:sp]=[-co for i in range(st,sp)]\n",
    "        te_co_neg[st:sp]=-co\n",
    "        te_hf_neg[st:sp]=-hf\n",
    "        te_h2c_neg[st:sp]=-h2c\n",
    "\n",
    "#wigs_pos = pd.DataFrame({'co_te':te_co_pos, 'hf_te':te_hf_pos, 'h2c_te':te_h2c_pos},\n",
    "#                   columns=['co_te', 'hf_te', 'h2c_te'])\n",
    "#wigs_neg=pd.DataFrame({'co_te':te_co_neg, 'hf_te':te_hf_neg, 'h2c_te':te_h2c_neg},\n",
    "#                   columns=['co_te', 'hf_te', 'h2c_te'])"
   ]
  },
  {
   "cell_type": "markdown",
   "metadata": {},
   "source": [
    "## Generating wig files"
   ]
  },
  {
   "cell_type": "code",
   "execution_count": 10,
   "metadata": {
    "collapsed": true,
    "jupyter": {
     "outputs_hidden": true
    }
   },
   "outputs": [],
   "source": [
    "headerco='tracktype=wiggle_0\\tname=te_co_pos\\tgraphType=points\\tvisibility=full\\tcolor=168,130,88\\nfixedStep\\tchrom=NC_014328\\tstart=1\\tstep=1\\tspan=1'\n",
    "headerhf='track   type=wiggle_0   name=te_hf_pos      graphType=points        visibility=full color=168,130,88\\nfixedStep       chrom=NC_014328 start=1 step=1  span=1'\n",
    "headerh2c='track   type=wiggle_0   name=te_h2c_pos      graphType=points        visibility=full color=168,130,88\\nfixedStep       chrom=NC_014328 start=1 step=1  span=1'"
   ]
  },
  {
   "cell_type": "code",
   "execution_count": 11,
   "metadata": {
    "collapsed": true,
    "jupyter": {
     "outputs_hidden": true
    }
   },
   "outputs": [],
   "source": [
    "headercong='tracktype=wiggle_0\\tname=te_co_neg\\tgraphType=points\\tvisibility=full\\tcolor=168,130,88\\nfixedStep\\tchrom=NC_014328\\tstart=1\\tstep=1\\tspan=1'\n",
    "headerhfng='track   type=wiggle_0   name=te_hf_neg      graphType=points        visibility=full color=168,130,88\\nfixedStep       chrom=NC_014328 start=1 step=1  span=1'\n",
    "headerh2cng='track   type=wiggle_0   name=te_h2c_neg      graphType=points        visibility=full color=168,130,88\\nfixedStep       chrom=NC_014328 start=1 step=1  span=1'"
   ]
  },
  {
   "cell_type": "code",
   "execution_count": 22,
   "metadata": {
    "collapsed": false,
    "jupyter": {
     "outputs_hidden": false
    }
   },
   "outputs": [],
   "source": [
    "te_h2c_neg=np.nan_to_num(te_h2c_neg)\n",
    "te_h2c_pos=np.nan_to_num(te_h2c_pos)"
   ]
  },
  {
   "cell_type": "code",
   "execution_count": 23,
   "metadata": {
    "collapsed": false,
    "jupyter": {
     "outputs_hidden": false
    }
   },
   "outputs": [],
   "source": [
    "np.savetxt('/home/m/Dropbox/Clostridium_paper/wig_files/co_te_pos.wig',te_co_pos,\n",
    "           fmt='%.1f', header=headerco, comments='',newline='\\n', delimiter='')\n",
    "np.savetxt('/home/m/Dropbox/Clostridium_paper/wig_files/hf_te_pos.wig',te_hf_pos,\n",
    "           fmt='%.1f', header=headerhf, comments='',newline='\\n')\n",
    "np.savetxt('/home/m/Dropbox/Clostridium_paper/wig_files/h2c_te_pos.wig',te_h2c_pos,\n",
    "           fmt='%.1f', header=headerh2c, comments='',newline='\\n')"
   ]
  },
  {
   "cell_type": "code",
   "execution_count": 24,
   "metadata": {
    "collapsed": true,
    "jupyter": {
     "outputs_hidden": true
    }
   },
   "outputs": [],
   "source": [
    "np.savetxt('/home/m/Dropbox/Clostridium_paper/wig_files/co_te_neg.wig',te_co_neg,\n",
    "           fmt='%.1f', header=headercong, comments='',newline='\\n', delimiter='')\n",
    "np.savetxt('/home/m/Dropbox/Clostridium_paper/wig_files/hf_te_neg.wig',te_hf_neg,\n",
    "           fmt='%.1f', header=headerhfng, comments='',newline='\\n')\n",
    "np.savetxt('/home/m/Dropbox/Clostridium_paper/wig_files/h2c_te_neg.wig',te_h2c_neg,\n",
    "           fmt='%.1f', header=headerh2cng, comments='',newline='\\n')"
   ]
  },
  {
   "cell_type": "code",
   "execution_count": null,
   "metadata": {
    "collapsed": true,
    "jupyter": {
     "outputs_hidden": true
    }
   },
   "outputs": [],
   "source": []
  }
 ],
 "metadata": {
  "kernelspec": {
   "display_name": "Python 3",
   "language": "python",
   "name": "python3"
  },
  "language_info": {
   "codemirror_mode": {
    "name": "ipython",
    "version": 3
   },
   "file_extension": ".py",
   "mimetype": "text/x-python",
   "name": "python",
   "nbconvert_exporter": "python",
   "pygments_lexer": "ipython3",
   "version": "3.8.8"
  }
 },
 "nbformat": 4,
 "nbformat_minor": 4
}
